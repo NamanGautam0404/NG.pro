{
  "cells": [
    {
      "cell_type": "markdown",
      "metadata": {
        "id": "view-in-github",
        "colab_type": "text"
      },
      "source": [
        "<a href=\"https://colab.research.google.com/github/NamanGautam0404/NG.pro/blob/main/Breast_cancer_Classification_using_ann.ipynb\" target=\"_parent\"><img src=\"https://colab.research.google.com/assets/colab-badge.svg\" alt=\"Open In Colab\"/></a>"
      ]
    },
    {
      "cell_type": "code",
      "execution_count": null,
      "id": "1905a283",
      "metadata": {
        "id": "1905a283",
        "outputId": "123b80d7-4aff-41d9-ee6a-88bb4a8cda4c"
      },
      "outputs": [
        {
          "name": "stdout",
          "output_type": "stream",
          "text": [
            "Requirement already satisfied: tensorflow in c:\\users\\diyab\\anaconda3\\lib\\site-packages (2.13.0)\n",
            "Requirement already satisfied: scikit-learn in c:\\users\\diyab\\anaconda3\\lib\\site-packages (1.0.2)\n",
            "Requirement already satisfied: tensorflow-intel==2.13.0 in c:\\users\\diyab\\anaconda3\\lib\\site-packages (from tensorflow) (2.13.0)\n",
            "Requirement already satisfied: wrapt>=1.11.0 in c:\\users\\diyab\\anaconda3\\lib\\site-packages (from tensorflow-intel==2.13.0->tensorflow) (1.12.1)\n",
            "Requirement already satisfied: flatbuffers>=23.1.21 in c:\\users\\diyab\\anaconda3\\lib\\site-packages (from tensorflow-intel==2.13.0->tensorflow) (23.5.26)\n",
            "Requirement already satisfied: absl-py>=1.0.0 in c:\\users\\diyab\\anaconda3\\lib\\site-packages (from tensorflow-intel==2.13.0->tensorflow) (1.4.0)\n",
            "Requirement already satisfied: tensorflow-estimator<2.14,>=2.13.0 in c:\\users\\diyab\\anaconda3\\lib\\site-packages (from tensorflow-intel==2.13.0->tensorflow) (2.13.0)\n",
            "Requirement already satisfied: termcolor>=1.1.0 in c:\\users\\diyab\\anaconda3\\lib\\site-packages (from tensorflow-intel==2.13.0->tensorflow) (2.3.0)\n",
            "Requirement already satisfied: gast<=0.4.0,>=0.2.1 in c:\\users\\diyab\\anaconda3\\lib\\site-packages (from tensorflow-intel==2.13.0->tensorflow) (0.4.0)\n",
            "Requirement already satisfied: setuptools in c:\\users\\diyab\\anaconda3\\lib\\site-packages (from tensorflow-intel==2.13.0->tensorflow) (61.2.0)\n",
            "Requirement already satisfied: typing-extensions<4.6.0,>=3.6.6 in c:\\users\\diyab\\anaconda3\\lib\\site-packages (from tensorflow-intel==2.13.0->tensorflow) (4.1.1)\n",
            "Requirement already satisfied: numpy<=1.24.3,>=1.22 in c:\\users\\diyab\\anaconda3\\lib\\site-packages (from tensorflow-intel==2.13.0->tensorflow) (1.22.4)\n",
            "Requirement already satisfied: h5py>=2.9.0 in c:\\users\\diyab\\anaconda3\\lib\\site-packages (from tensorflow-intel==2.13.0->tensorflow) (3.6.0)\n",
            "Requirement already satisfied: protobuf!=4.21.0,!=4.21.1,!=4.21.2,!=4.21.3,!=4.21.4,!=4.21.5,<5.0.0dev,>=3.20.3 in c:\\users\\diyab\\anaconda3\\lib\\site-packages (from tensorflow-intel==2.13.0->tensorflow) (4.24.3)\n",
            "Requirement already satisfied: tensorboard<2.14,>=2.13 in c:\\users\\diyab\\anaconda3\\lib\\site-packages (from tensorflow-intel==2.13.0->tensorflow) (2.13.0)\n",
            "Requirement already satisfied: packaging in c:\\users\\diyab\\anaconda3\\lib\\site-packages (from tensorflow-intel==2.13.0->tensorflow) (21.3)\n",
            "Requirement already satisfied: grpcio<2.0,>=1.24.3 in c:\\users\\diyab\\anaconda3\\lib\\site-packages (from tensorflow-intel==2.13.0->tensorflow) (1.58.0)\n",
            "Requirement already satisfied: astunparse>=1.6.0 in c:\\users\\diyab\\anaconda3\\lib\\site-packages (from tensorflow-intel==2.13.0->tensorflow) (1.6.3)\n",
            "Requirement already satisfied: keras<2.14,>=2.13.1 in c:\\users\\diyab\\anaconda3\\lib\\site-packages (from tensorflow-intel==2.13.0->tensorflow) (2.13.1)\n",
            "Requirement already satisfied: libclang>=13.0.0 in c:\\users\\diyab\\anaconda3\\lib\\site-packages (from tensorflow-intel==2.13.0->tensorflow) (16.0.6)\n",
            "Requirement already satisfied: six>=1.12.0 in c:\\users\\diyab\\anaconda3\\lib\\site-packages (from tensorflow-intel==2.13.0->tensorflow) (1.16.0)\n",
            "Requirement already satisfied: tensorflow-io-gcs-filesystem>=0.23.1 in c:\\users\\diyab\\anaconda3\\lib\\site-packages (from tensorflow-intel==2.13.0->tensorflow) (0.31.0)\n",
            "Requirement already satisfied: google-pasta>=0.1.1 in c:\\users\\diyab\\anaconda3\\lib\\site-packages (from tensorflow-intel==2.13.0->tensorflow) (0.2.0)\n",
            "Requirement already satisfied: opt-einsum>=2.3.2 in c:\\users\\diyab\\anaconda3\\lib\\site-packages (from tensorflow-intel==2.13.0->tensorflow) (3.3.0)\n",
            "Requirement already satisfied: threadpoolctl>=2.0.0 in c:\\users\\diyab\\anaconda3\\lib\\site-packages (from scikit-learn) (2.2.0)\n",
            "Requirement already satisfied: joblib>=0.11 in c:\\users\\diyab\\anaconda3\\lib\\site-packages (from scikit-learn) (1.1.0)\n",
            "Requirement already satisfied: scipy>=1.1.0 in c:\\users\\diyab\\anaconda3\\lib\\site-packages (from scikit-learn) (1.7.3)\n",
            "Requirement already satisfied: wheel<1.0,>=0.23.0 in c:\\users\\diyab\\anaconda3\\lib\\site-packages (from astunparse>=1.6.0->tensorflow-intel==2.13.0->tensorflow) (0.37.1)\n",
            "Requirement already satisfied: markdown>=2.6.8 in c:\\users\\diyab\\anaconda3\\lib\\site-packages (from tensorboard<2.14,>=2.13->tensorflow-intel==2.13.0->tensorflow) (3.3.4)\n",
            "Requirement already satisfied: werkzeug>=1.0.1 in c:\\users\\diyab\\anaconda3\\lib\\site-packages (from tensorboard<2.14,>=2.13->tensorflow-intel==2.13.0->tensorflow) (2.0.3)\n",
            "Requirement already satisfied: google-auth-oauthlib<1.1,>=0.5 in c:\\users\\diyab\\anaconda3\\lib\\site-packages (from tensorboard<2.14,>=2.13->tensorflow-intel==2.13.0->tensorflow) (1.0.0)\n",
            "Requirement already satisfied: google-auth<3,>=1.6.3 in c:\\users\\diyab\\anaconda3\\lib\\site-packages (from tensorboard<2.14,>=2.13->tensorflow-intel==2.13.0->tensorflow) (2.23.0)\n",
            "Requirement already satisfied: tensorboard-data-server<0.8.0,>=0.7.0 in c:\\users\\diyab\\anaconda3\\lib\\site-packages (from tensorboard<2.14,>=2.13->tensorflow-intel==2.13.0->tensorflow) (0.7.1)\n",
            "Requirement already satisfied: requests<3,>=2.21.0 in c:\\users\\diyab\\anaconda3\\lib\\site-packages (from tensorboard<2.14,>=2.13->tensorflow-intel==2.13.0->tensorflow) (2.31.0)\n",
            "Requirement already satisfied: rsa<5,>=3.1.4 in c:\\users\\diyab\\anaconda3\\lib\\site-packages (from google-auth<3,>=1.6.3->tensorboard<2.14,>=2.13->tensorflow-intel==2.13.0->tensorflow) (4.7.2)\n",
            "Requirement already satisfied: pyasn1-modules>=0.2.1 in c:\\users\\diyab\\anaconda3\\lib\\site-packages (from google-auth<3,>=1.6.3->tensorboard<2.14,>=2.13->tensorflow-intel==2.13.0->tensorflow) (0.2.8)\n",
            "Requirement already satisfied: cachetools<6.0,>=2.0.0 in c:\\users\\diyab\\anaconda3\\lib\\site-packages (from google-auth<3,>=1.6.3->tensorboard<2.14,>=2.13->tensorflow-intel==2.13.0->tensorflow) (4.2.2)\n",
            "Requirement already satisfied: urllib3<2.0 in c:\\users\\diyab\\anaconda3\\lib\\site-packages (from google-auth<3,>=1.6.3->tensorboard<2.14,>=2.13->tensorflow-intel==2.13.0->tensorflow) (1.26.9)\n",
            "Requirement already satisfied: requests-oauthlib>=0.7.0 in c:\\users\\diyab\\anaconda3\\lib\\site-packages (from google-auth-oauthlib<1.1,>=0.5->tensorboard<2.14,>=2.13->tensorflow-intel==2.13.0->tensorflow) (1.3.1)\n",
            "Requirement already satisfied: pyasn1<0.5.0,>=0.4.6 in c:\\users\\diyab\\anaconda3\\lib\\site-packages (from pyasn1-modules>=0.2.1->google-auth<3,>=1.6.3->tensorboard<2.14,>=2.13->tensorflow-intel==2.13.0->tensorflow) (0.4.8)\n",
            "Requirement already satisfied: charset-normalizer<4,>=2 in c:\\users\\diyab\\anaconda3\\lib\\site-packages (from requests<3,>=2.21.0->tensorboard<2.14,>=2.13->tensorflow-intel==2.13.0->tensorflow) (2.0.4)\n",
            "Requirement already satisfied: idna<4,>=2.5 in c:\\users\\diyab\\anaconda3\\lib\\site-packages (from requests<3,>=2.21.0->tensorboard<2.14,>=2.13->tensorflow-intel==2.13.0->tensorflow) (3.3)\n",
            "Requirement already satisfied: certifi>=2017.4.17 in c:\\users\\diyab\\anaconda3\\lib\\site-packages (from requests<3,>=2.21.0->tensorboard<2.14,>=2.13->tensorflow-intel==2.13.0->tensorflow) (2021.10.8)\n",
            "Requirement already satisfied: oauthlib>=3.0.0 in c:\\users\\diyab\\anaconda3\\lib\\site-packages (from requests-oauthlib>=0.7.0->google-auth-oauthlib<1.1,>=0.5->tensorboard<2.14,>=2.13->tensorflow-intel==2.13.0->tensorflow) (3.2.2)\n",
            "Requirement already satisfied: pyparsing!=3.0.5,>=2.0.2 in c:\\users\\diyab\\anaconda3\\lib\\site-packages (from packaging->tensorflow-intel==2.13.0->tensorflow) (3.0.4)\n",
            "Note: you may need to restart the kernel to use updated packages.\n"
          ]
        }
      ],
      "source": [
        "pip install tensorflow scikit-learn"
      ]
    },
    {
      "cell_type": "code",
      "execution_count": null,
      "id": "6276589a",
      "metadata": {
        "colab": {
          "base_uri": "https://localhost:8080/"
        },
        "id": "6276589a",
        "outputId": "321c7f19-d9b7-4605-d53c-d27a62eef72c"
      },
      "outputs": [
        {
          "output_type": "stream",
          "name": "stdout",
          "text": [
            "Epoch 1/1000\n",
            "12/12 [==============================] - 5s 74ms/step - loss: 0.8057 - accuracy: 0.4698 - val_loss: 0.5725 - val_accuracy: 0.7253\n",
            "Epoch 2/1000\n",
            "12/12 [==============================] - 0s 18ms/step - loss: 0.5150 - accuracy: 0.7665 - val_loss: 0.3443 - val_accuracy: 0.9011\n",
            "Epoch 3/1000\n",
            "12/12 [==============================] - 0s 15ms/step - loss: 0.3351 - accuracy: 0.9066 - val_loss: 0.2498 - val_accuracy: 0.9011\n",
            "Epoch 4/1000\n",
            "12/12 [==============================] - 0s 27ms/step - loss: 0.2552 - accuracy: 0.9396 - val_loss: 0.1996 - val_accuracy: 0.9231\n",
            "Epoch 5/1000\n",
            "12/12 [==============================] - 0s 18ms/step - loss: 0.2230 - accuracy: 0.9313 - val_loss: 0.1686 - val_accuracy: 0.9341\n",
            "Epoch 6/1000\n",
            "12/12 [==============================] - 0s 21ms/step - loss: 0.1798 - accuracy: 0.9505 - val_loss: 0.1468 - val_accuracy: 0.9560\n",
            "Epoch 7/1000\n",
            "12/12 [==============================] - 0s 17ms/step - loss: 0.1595 - accuracy: 0.9451 - val_loss: 0.1326 - val_accuracy: 0.9780\n",
            "Epoch 8/1000\n",
            "12/12 [==============================] - 0s 11ms/step - loss: 0.1224 - accuracy: 0.9725 - val_loss: 0.1226 - val_accuracy: 0.9780\n",
            "Epoch 9/1000\n",
            "12/12 [==============================] - 0s 14ms/step - loss: 0.1356 - accuracy: 0.9560 - val_loss: 0.1149 - val_accuracy: 0.9780\n",
            "Epoch 10/1000\n",
            "12/12 [==============================] - 0s 15ms/step - loss: 0.1196 - accuracy: 0.9643 - val_loss: 0.1078 - val_accuracy: 0.9780\n",
            "Epoch 11/1000\n",
            "12/12 [==============================] - 0s 9ms/step - loss: 0.1071 - accuracy: 0.9753 - val_loss: 0.1026 - val_accuracy: 0.9780\n",
            "Epoch 12/1000\n",
            "12/12 [==============================] - 0s 13ms/step - loss: 0.0929 - accuracy: 0.9698 - val_loss: 0.0987 - val_accuracy: 0.9780\n",
            "Epoch 13/1000\n",
            "12/12 [==============================] - 0s 14ms/step - loss: 0.0931 - accuracy: 0.9643 - val_loss: 0.0960 - val_accuracy: 0.9780\n",
            "Epoch 14/1000\n",
            "12/12 [==============================] - 0s 29ms/step - loss: 0.0788 - accuracy: 0.9698 - val_loss: 0.0933 - val_accuracy: 0.9780\n",
            "Epoch 15/1000\n",
            "12/12 [==============================] - 0s 25ms/step - loss: 0.0844 - accuracy: 0.9753 - val_loss: 0.0915 - val_accuracy: 0.9780\n",
            "Epoch 16/1000\n",
            "12/12 [==============================] - 0s 14ms/step - loss: 0.0940 - accuracy: 0.9753 - val_loss: 0.0904 - val_accuracy: 0.9780\n",
            "Epoch 17/1000\n",
            "12/12 [==============================] - 0s 9ms/step - loss: 0.0709 - accuracy: 0.9780 - val_loss: 0.0893 - val_accuracy: 0.9780\n",
            "Epoch 18/1000\n",
            "12/12 [==============================] - 0s 10ms/step - loss: 0.0700 - accuracy: 0.9808 - val_loss: 0.0874 - val_accuracy: 0.9780\n",
            "Epoch 19/1000\n",
            "12/12 [==============================] - 0s 20ms/step - loss: 0.0644 - accuracy: 0.9808 - val_loss: 0.0857 - val_accuracy: 0.9780\n",
            "Epoch 20/1000\n",
            "12/12 [==============================] - 0s 24ms/step - loss: 0.0777 - accuracy: 0.9753 - val_loss: 0.0842 - val_accuracy: 0.9780\n",
            "Epoch 21/1000\n",
            "12/12 [==============================] - 0s 33ms/step - loss: 0.0669 - accuracy: 0.9863 - val_loss: 0.0841 - val_accuracy: 0.9890\n",
            "Epoch 22/1000\n",
            "12/12 [==============================] - 0s 13ms/step - loss: 0.0561 - accuracy: 0.9808 - val_loss: 0.0837 - val_accuracy: 0.9780\n",
            "Epoch 23/1000\n",
            "12/12 [==============================] - 0s 13ms/step - loss: 0.0555 - accuracy: 0.9808 - val_loss: 0.0834 - val_accuracy: 0.9670\n",
            "Epoch 24/1000\n",
            "12/12 [==============================] - 0s 15ms/step - loss: 0.0560 - accuracy: 0.9863 - val_loss: 0.0829 - val_accuracy: 0.9890\n",
            "Epoch 25/1000\n",
            "12/12 [==============================] - 0s 21ms/step - loss: 0.0614 - accuracy: 0.9780 - val_loss: 0.0819 - val_accuracy: 0.9890\n",
            "Epoch 26/1000\n",
            "12/12 [==============================] - 0s 22ms/step - loss: 0.0568 - accuracy: 0.9808 - val_loss: 0.0814 - val_accuracy: 0.9890\n",
            "Epoch 27/1000\n",
            "12/12 [==============================] - 0s 27ms/step - loss: 0.0558 - accuracy: 0.9863 - val_loss: 0.0812 - val_accuracy: 0.9890\n",
            "Epoch 28/1000\n",
            "12/12 [==============================] - 0s 19ms/step - loss: 0.0519 - accuracy: 0.9890 - val_loss: 0.0813 - val_accuracy: 0.9890\n",
            "Epoch 29/1000\n",
            "12/12 [==============================] - 1s 44ms/step - loss: 0.0618 - accuracy: 0.9835 - val_loss: 0.0812 - val_accuracy: 0.9890\n",
            "Epoch 30/1000\n",
            "12/12 [==============================] - 0s 23ms/step - loss: 0.0332 - accuracy: 0.9863 - val_loss: 0.0792 - val_accuracy: 0.9890\n",
            "Epoch 31/1000\n",
            "12/12 [==============================] - 0s 31ms/step - loss: 0.0468 - accuracy: 0.9808 - val_loss: 0.0779 - val_accuracy: 0.9890\n",
            "Epoch 32/1000\n",
            "12/12 [==============================] - 0s 38ms/step - loss: 0.0524 - accuracy: 0.9863 - val_loss: 0.0779 - val_accuracy: 0.9890\n",
            "Epoch 33/1000\n",
            "12/12 [==============================] - 0s 30ms/step - loss: 0.0449 - accuracy: 0.9918 - val_loss: 0.0793 - val_accuracy: 0.9890\n",
            "Epoch 34/1000\n",
            "12/12 [==============================] - 0s 23ms/step - loss: 0.0423 - accuracy: 0.9890 - val_loss: 0.0799 - val_accuracy: 0.9890\n",
            "Epoch 35/1000\n",
            "12/12 [==============================] - 0s 25ms/step - loss: 0.0276 - accuracy: 0.9918 - val_loss: 0.0804 - val_accuracy: 0.9890\n",
            "4/4 [==============================] - 0s 11ms/step - loss: 0.0678 - accuracy: 0.9825\n",
            "Test Accuracy: 0.9824561476707458\n"
          ]
        }
      ],
      "source": [
        "import numpy as np\n",
        "from sklearn.datasets import load_breast_cancer\n",
        "from sklearn.model_selection import train_test_split\n",
        "from sklearn.preprocessing import StandardScaler\n",
        "import tensorflow as tf\n",
        "from tensorflow.keras.models import Sequential\n",
        "from tensorflow.keras.layers import Dense, Dropout\n",
        "from tensorflow.keras.callbacks import EarlyStopping\n",
        "\n",
        "data = load_breast_cancer()\n",
        "X = data.data\n",
        "y = data.target\n",
        "\n",
        "# Split data into train and test sets\n",
        "X_train, X_test, y_train, y_test = train_test_split(X, y, test_size=0.2, random_state=42)\n",
        "\n",
        "# Standardize features\n",
        "scaler = StandardScaler()\n",
        "X_train = scaler.fit_transform(X_train)\n",
        "X_test = scaler.transform(X_test)\n",
        "\n",
        "# Build the ANN model\n",
        "model = Sequential([\n",
        "    Dense(64, activation='relu', input_shape=(X_train.shape[1],)),\n",
        "    Dropout(0.5),  # Adding dropout layer\n",
        "    Dense(32, activation='relu'),\n",
        "    Dense(1, activation='sigmoid')\n",
        "])\n",
        "\n",
        "# Compile the model\n",
        "model.compile(optimizer='adam', loss='binary_crossentropy', metrics=['accuracy'])\n",
        "\n",
        "# Define early stopping callback\n",
        "early_stopping = EarlyStopping(monitor='val_loss', patience=3)\n",
        "\n",
        "# Train the model with early stopping\n",
        "history = model.fit(X_train, y_train, validation_split=0.2, epochs=1000, batch_size=32, callbacks=[early_stopping])\n",
        "\n",
        "# Evaluate the model\n",
        "test_loss, test_acc = model.evaluate(X_test, y_test)\n",
        "print(\"Test Accuracy:\", test_acc)\n"
      ]
    },
    {
      "cell_type": "code",
      "execution_count": null,
      "id": "c7561beb",
      "metadata": {
        "id": "c7561beb"
      },
      "outputs": [],
      "source": []
    }
  ],
  "metadata": {
    "kernelspec": {
      "display_name": "Python 3 (ipykernel)",
      "language": "python",
      "name": "python3"
    },
    "language_info": {
      "codemirror_mode": {
        "name": "ipython",
        "version": 3
      },
      "file_extension": ".py",
      "mimetype": "text/x-python",
      "name": "python",
      "nbconvert_exporter": "python",
      "pygments_lexer": "ipython3",
      "version": "3.9.12"
    },
    "colab": {
      "provenance": [],
      "include_colab_link": true
    }
  },
  "nbformat": 4,
  "nbformat_minor": 5
}